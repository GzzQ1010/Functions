{
 "cells": [
  {
   "cell_type": "markdown",
   "id": "999291e0-55b6-447b-b4e8-8b7fbe149203",
   "metadata": {},
   "source": [
    "## Functions ##"
   ]
  },
  {
   "cell_type": "markdown",
   "id": "5c754d35-39ee-461c-b69c-83e131a342a1",
   "metadata": {},
   "source": [
    "**Mode**"
   ]
  },
  {
   "cell_type": "code",
   "execution_count": 1,
   "id": "357d1b26-51a4-40b7-b3ba-9b03892108d9",
   "metadata": {},
   "outputs": [],
   "source": [
    "def Mode(list_: list):# number lsit\n",
    "    \"\"\"\n",
    "    find the mode numbers of a list\n",
    "    \"\"\"\n",
    "    frequency={}\n",
    "    for number in list_:\n",
    "        frequency.setdefault(number,0)\n",
    "        frequency[number]+=1\n",
    "    highest_frequency=max(frequency.values ())\n",
    "    highest_frequent_list=[]\n",
    "    for number,freq in frequency.items():\n",
    "        if freq==highest_frequency:\n",
    "            highest_frequent_list.append(number)\n",
    "    return highest_frequent_list"
   ]
  },
  {
   "cell_type": "markdown",
   "id": "25df2392-cba8-44cf-b927-9512a526c813",
   "metadata": {},
   "source": [
    "### Fine parameter using cost function\n"
   ]
  },
  {
   "cell_type": "code",
   "execution_count": 3,
   "id": "89013496-d1bf-4f31-86a3-9ed33de897ab",
   "metadata": {},
   "outputs": [],
   "source": [
    "def w_b_value(x,y):\n",
    "    \"\"\"\n",
    "    use Cost function to find w in y=wx function\n",
    "    \"\"\"\n",
    "    err_sqr=0\n",
    "    for i in range(500):\n",
    "        for a in range(len(x_train)):\n",
    "            err_sqr=err_sqr+((x_train[a]*i-y_train[a])**2)\n",
    "            J=1/(2*(i+1))*err_sqr\n",
    "            cost_f.update({i:J})\n",
    "    Cost_df=pd.DataFrame(cost_f,index=['Cost_F']).T\n",
    "    Cost_df.plot()\n",
    "    Best_w=Cost_df[Cost_df['Cost_F'] == Cost_df['Cost_F'].min()]\n",
    "    return Best_w"
   ]
  },
  {
   "cell_type": "markdown",
   "id": "b8b542c9-dfde-4874-9449-afc5057a94c4",
   "metadata": {},
   "source": [
    "###  identifying categorical and numerical variables."
   ]
  },
  {
   "cell_type": "code",
   "execution_count": 1,
   "id": "130914d2-dfa2-4153-aa01-923e2253866a",
   "metadata": {},
   "outputs": [],
   "source": [
    "def grab_col_names(dataframe,cat_th=10,car_th=30):\n",
    "    \"\"\"\n",
    "It gives the names of categorical, numerical and categorical but cardinal variables in the data set.\n",
    "\n",
    "    Paramaters\n",
    "    ----------\n",
    "    dataframe : dataframe\n",
    "        is the dataframe from which variable names are to be retrieved.\n",
    "    cat_th : int,float\n",
    "        class threshold for numeric but categorical variables.\n",
    "    car_th : int,float\n",
    "        Class threshold for categorical but cardinal variables.\n",
    "    \n",
    "    Returns\n",
    "    ---------\n",
    "    cat_cols : list\n",
    "            Categorical variable list\n",
    "    num_cols : list\n",
    "            Numeric variable list\n",
    "    cat_but_car : list\n",
    "           Categorical list of cardinal variables.\n",
    "    \n",
    "    Notes\n",
    "    ----------\n",
    "    cat_cols +num_cols +cat_but_car = total number of variables\n",
    "    num_but_cat inside cat_cols\n",
    "    The sum of the 3 returned lists is equal to the total number of variables\n",
    "    \n",
    "    \"\"\"\n",
    "    # cat_cols , cat_but_car\n",
    "    cat_cols = [col for col in df.columns if str(df[col].dtypes) in ['category','object','bool']]\n",
    "    num_but_cat = [col for col in df.columns if df[col].nunique() <10 and (df[col].dtypes) in ['int64','float64']]\n",
    "    cat_but_car = [col for col in df.columns if \n",
    "                   df[col].nunique()>20 and str(df[col].dtypes) in ['category','object']]\n",
    "    cat_cols = cat_cols + num_but_cat\n",
    "    cat_cols = [col for col in cat_cols if col not in cat_but_car]\n",
    "    \n",
    "    #let's pull numeric variables\n",
    "    num_cols = [col for col in df.columns if df[col].dtypes in ['int','float']]\n",
    "    num_cols = [col for col in num_cols if col not in cat_cols]\n",
    "    \n",
    "    #Reporting section\n",
    "    print(f'Observations : {dataframe.shape[0]}')\n",
    "    print(f'Variables :{dataframe.shape[1]}')\n",
    "    print(f'cat_cols : {len(cat_cols)}')\n",
    "    print(f'num_cols : {len(num_cols)}')\n",
    "    print(f'cat_but_car : {len(cat_but_car)}')\n",
    "    print(f'num_but_cat : {len(num_but_cat)}')\n",
    "    \n",
    "    return cat_cols ,num_cols ,cat_but_car"
   ]
  },
  {
   "cell_type": "code",
   "execution_count": null,
   "id": "ad1ee3f2-e0af-4980-91c6-b0243f5671f8",
   "metadata": {},
   "outputs": [],
   "source": []
  }
 ],
 "metadata": {
  "kernelspec": {
   "display_name": "Python 3 (ipykernel)",
   "language": "python",
   "name": "python3"
  },
  "language_info": {
   "codemirror_mode": {
    "name": "ipython",
    "version": 3
   },
   "file_extension": ".py",
   "mimetype": "text/x-python",
   "name": "python",
   "nbconvert_exporter": "python",
   "pygments_lexer": "ipython3",
   "version": "3.9.12"
  }
 },
 "nbformat": 4,
 "nbformat_minor": 5
}
